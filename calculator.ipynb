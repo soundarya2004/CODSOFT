{
 "cells": [
  {
   "cell_type": "markdown",
   "id": "396bffe1",
   "metadata": {},
   "source": [
    "# CALCULATOR"
   ]
  },
  {
   "cell_type": "code",
   "execution_count": 2,
   "id": "5fac9e4e",
   "metadata": {},
   "outputs": [
    {
     "name": "stdout",
     "output_type": "stream",
     "text": [
      "Select an operation: \n",
      " 1. ADDITION\n",
      " 2. SUBTRACTION\n",
      " 3. MULTIPLICATION\n",
      " 4. DIVISION\n",
      "Enter your choice : 1/2/3/4 1\n",
      "Enter first number: 234\n",
      "Enter second number: 123\n",
      "234.0 + 123.0 = 357.0\n",
      " Let's do next calculation ? Yes / No ? Yes\n",
      "\n",
      "\n",
      "Enter your choice : 1/2/3/4 2\n",
      "Enter first number: 543\n",
      "Enter second number: 1098\n",
      "543.0 - 1098.0 = -555.0\n",
      " Let's do next calculation ? Yes / No ? Yes\n",
      "\n",
      "\n",
      "Enter your choice : 1/2/3/4 3\n",
      "Enter first number: 43\n",
      "Enter second number: 25\n",
      "43.0 * 25.0 = 1075.0\n",
      " Let's do next calculation ? Yes / No ? Yes\n",
      "\n",
      "\n",
      "Enter your choice : 1/2/3/4 4\n",
      "Enter first number: 4\n",
      "Enter second number: 2\n",
      "4.0 / 2.0 = 2.0\n",
      " Let's do next calculation ? Yes / No ? No\n",
      "\n",
      "\n"
     ]
    }
   ],
   "source": [
    "def add(a,b):\n",
    "    return a+b\n",
    "\n",
    "def sub(a,b):\n",
    "    return a-b\n",
    "\n",
    "def multiply(a,b):\n",
    "    return a*b\n",
    "\n",
    "def divide(a,b):\n",
    "    return a/b\n",
    "\n",
    "print(\"Select an operation: \")\n",
    "print(\" 1. ADDITION\")\n",
    "print(\" 2. SUBTRACTION\")\n",
    "print(\" 3. MULTIPLICATION\")\n",
    "print(\" 4. DIVISION\")\n",
    "\n",
    "while True:\n",
    "    choice = input(\"Enter your choice : 1/2/3/4 \")\n",
    "    \n",
    "    if choice in ('1' , '2' , '3' , '4'):\n",
    "        \n",
    "        try:\n",
    "            num1=float(input(\"Enter first number: \"))\n",
    "            num2=float(input(\"Enter second number: \"))\n",
    "            \n",
    "        except ValueError:\n",
    "            print(\"Invalid input !! Enter a proper number !!\")\n",
    "            continue\n",
    "            \n",
    "        if choice == '1':\n",
    "            print(num1, \"+\" ,num2, \"=\", add(num1,num2))\n",
    "            \n",
    "        elif choice == '2':\n",
    "            print(num1, \"-\", num2 ,\"=\", sub(num1,num2))\n",
    "            \n",
    "        elif choice == '3':\n",
    "            print(num1, \"*\", num2 ,\"=\", multiply(num1,num2))\n",
    "            \n",
    "        elif choice == '4':\n",
    "            print(num1, \"/\", num2 , \"=\", divide(num1,num2))\n",
    "            \n",
    "        next_cal = input (\" Let's do next calculation ? Yes / No ? \")\n",
    "        print('\\n')\n",
    "        if next_cal == \"No\":\n",
    "            break\n",
    "            \n",
    "    else:\n",
    "        print(\"Invalid input \")\n",
    "\n"
   ]
  },
  {
   "cell_type": "code",
   "execution_count": null,
   "id": "1baef45c",
   "metadata": {},
   "outputs": [],
   "source": []
  },
  {
   "cell_type": "code",
   "execution_count": null,
   "id": "f971ab0e",
   "metadata": {},
   "outputs": [],
   "source": [
    "\n",
    "\n"
   ]
  },
  {
   "cell_type": "code",
   "execution_count": null,
   "id": "1c359e1b",
   "metadata": {},
   "outputs": [],
   "source": []
  }
 ],
 "metadata": {
  "kernelspec": {
   "display_name": "Python 3 (ipykernel)",
   "language": "python",
   "name": "python3"
  },
  "language_info": {
   "codemirror_mode": {
    "name": "ipython",
    "version": 3
   },
   "file_extension": ".py",
   "mimetype": "text/x-python",
   "name": "python",
   "nbconvert_exporter": "python",
   "pygments_lexer": "ipython3",
   "version": "3.11.5"
  }
 },
 "nbformat": 4,
 "nbformat_minor": 5
}
