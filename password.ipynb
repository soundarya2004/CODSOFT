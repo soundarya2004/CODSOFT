{
 "cells": [
  {
   "cell_type": "code",
   "execution_count": 3,
   "id": "a4026ded",
   "metadata": {},
   "outputs": [
    {
     "name": "stdout",
     "output_type": "stream",
     "text": [
      "Generate your own password !\n",
      "\n",
      "\n",
      "Enter the password length : 5\n",
      "Enter the complexity of your password (high , medium , low ): low\n",
      "Password Generated : NWWjr\n"
     ]
    }
   ],
   "source": [
    "import random\n",
    "import string\n",
    "\n",
    "def password_generate(length , complexity):\n",
    "    if complexity == \"high\":\n",
    "        characters = string.ascii_letters + string.digits + string.punctuation\n",
    "        \n",
    "    elif complexity == \"medium\":\n",
    "        characters = string.ascii_letters + string.digits\n",
    "        \n",
    "    elif complexity == \"low\":\n",
    "        characters = string.ascii_letters\n",
    "        \n",
    "    else:\n",
    "        print(\"Invalid input. Please enter a proper complexity level\")\n",
    "        return None\n",
    "    \n",
    "    password = ''.join(random.choice(characters) for i in range(length)) \n",
    "    return password\n",
    "\n",
    "def main():\n",
    "    \n",
    "    print(\"Generate your own password !\")\n",
    "    print('\\n')\n",
    "    \n",
    "    length = int(input(\"Enter the password length : \"))\n",
    "    complexity = input(\"Enter the complexity of your password (high , medium , low ): \")\n",
    "    \n",
    "    password = password_generate(length , complexity)\n",
    "    \n",
    "    if password:\n",
    "        print(\"Password Generated :\", password)\n",
    "\n",
    "if __name__ == \"__main__\":\n",
    "    main()"
   ]
  },
  {
   "cell_type": "code",
   "execution_count": null,
   "id": "2cce9480",
   "metadata": {},
   "outputs": [],
   "source": []
  },
  {
   "cell_type": "code",
   "execution_count": null,
   "id": "b1d014cd",
   "metadata": {},
   "outputs": [],
   "source": []
  }
 ],
 "metadata": {
  "kernelspec": {
   "display_name": "Python 3 (ipykernel)",
   "language": "python",
   "name": "python3"
  },
  "language_info": {
   "codemirror_mode": {
    "name": "ipython",
    "version": 3
   },
   "file_extension": ".py",
   "mimetype": "text/x-python",
   "name": "python",
   "nbconvert_exporter": "python",
   "pygments_lexer": "ipython3",
   "version": "3.11.5"
  }
 },
 "nbformat": 4,
 "nbformat_minor": 5
}
